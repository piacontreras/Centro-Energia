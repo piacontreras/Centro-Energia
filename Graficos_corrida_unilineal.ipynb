{
 "cells": [
  {
   "cell_type": "markdown",
   "metadata": {},
   "source": [
    "# Librerias"
   ]
  },
  {
   "cell_type": "code",
   "execution_count": 1,
   "metadata": {},
   "outputs": [],
   "source": [
    "#Importar librerias\n",
    "\n",
    "import numpy as np\n",
    "import pandas as pd\n",
    "import matplotlib.pyplot as plt\n",
    "import seaborn as sns\n",
    "import sqlite3\n",
    "import sqlalchemy\n",
    "from matplotlib.pyplot import figure\n",
    "from datetime import timedelta\n",
    "#Eliminar espacios en blanco de las columnas\n",
    "def trim_all_columns(df):\n",
    "    trim_strings = lambda x: x.strip() if isinstance(x, str) else x\n",
    "    return df.applymap(trim_strings)\n",
    "\n",
    "paleta1=\"ch:2.5,-.2,dark=.3\"\n",
    "paleta2 =sns.color_palette(\"bright\", 10)\n",
    "color1='teal'"
   ]
  },
  {
   "cell_type": "markdown",
   "metadata": {},
   "source": [
    "# Lectura DF"
   ]
  },
  {
   "cell_type": "code",
   "execution_count": 2,
   "metadata": {},
   "outputs": [
    {
     "name": "stdout",
     "output_type": "stream",
     "text": [
      "marginal_cost\n",
      "demand_bus\n",
      "level_dam\n",
      "power_generator\n"
     ]
    }
   ],
   "source": [
    "#coneccion a las bases de datos\n",
    "cnx_hour = sqlite3.connect('hour.db') \n",
    "cnx_month = sqlite3.connect('month.db')\n",
    "cnx_year = sqlite3.connect('year.db')\n",
    "#get table names\n",
    "res = cnx_month.execute(\"SELECT name FROM sqlite_master WHERE type='table';\")\n",
    "for name in res:\n",
    "    print(name[0])"
   ]
  },
  {
   "cell_type": "code",
   "execution_count": 3,
   "metadata": {},
   "outputs": [],
   "source": [
    "#Lectura de tablas de sql a pandas\n",
    "#hour\n",
    "cmg= pd.read_sql_query(\"SELECT * From 'marginal_cost' \",cnx_month)\n",
    "# lineh= pd.read_sql_query(\"SELECT * From 'flow_line' \",cnx_hour)\n",
    "bar= pd.read_sql_query(\"SELECT * From 'demand_bus' \",cnx_month)\n",
    "#emb= pd.read_sql_query(\"SELECT * From 'level_dam' \",cnx_month)\n",
    "gen= pd.read_sql_query(\"SELECT * From 'power_generator' \",cnx_month)\n",
    "#ener=pd.read_sql_query(\"SELECT * From 'energy_generator' \",cnx_month)\n",
    "#tech=pd.read_sql_query(\"SELECT * From 'energy_technology' \",cnx_month)\n",
    "#vol= pd.read_sql_query(\"SELECT * From 'volume_dam' \",cnx_month)\n",
    "# lineh2= pd.read_sql_query(\"SELECT * From 'flow_line_perc' \",cnx_hour)\n"
   ]
  },
  {
   "cell_type": "code",
   "execution_count": 14,
   "metadata": {},
   "outputs": [],
   "source": [
    "#Lectura DF PLP\n",
    "df1=pd.read_csv('/home/pcontreras/demanda-real/plpbar.csv',dtype={\"Hidro\":str})\n",
    "df2=pd.read_csv('/home/pcontreras/demanda-real/bloques.csv',encoding='latin1',dtype={\"Año\":str})\n",
    "#df3=pd.read_csv('/home/cdominguez/RD/uni/plpemb.csv',dtype={'EmbNom':str})\n",
    "#df4=pd.read_csv('/home/cdominguez/RD/uni/embalses.csv',dtype={'Nombre':str})\n",
    "df5=pd.read_csv('/home/pcontreras/demanda-real/plpcen.csv',dtype={\"CenNom\":str,\"Hidro\":str,\"Año\":str})\n",
    "df6=pd.read_csv('/home/pcontreras/demanda-real/tecnologias.csv',encoding='latin1',dtype={\"cen_name\":str,\"cen_type\":str})\n",
    "#df7=pd.read_csv('/home/cdominguez/RD/uni/plplin.csv',dtype={\"LinNom\":str,'Hidro':str})\n",
    "#df8=pd.read_csv('/home/cdominguez/RD/uni/plpcostop.csv')\n",
    "\n",
    "#Reemplazar NaN de tecnologias que faltan \n",
    "#df6=df6.fillna('Otro')\n",
    "#Eliminar espacios en blanco de las columnas\n",
    "df1 = trim_all_columns(df1)\n",
    "df2 = trim_all_columns(df2)\n",
    "#df3 = trim_all_columns(df3)\n",
    "#df4 = trim_all_columns(df4)\n",
    "df5 = trim_all_columns(df5)\n",
    "df6 = trim_all_columns(df6)\n",
    "#df7 = trim_all_columns(df7)\n",
    "#df8 = trim_all_columns(df8)\n"
   ]
  },
  {
   "cell_type": "markdown",
   "metadata": {},
   "source": [
    "# Cmg - CHEBYSHEV"
   ]
  },
  {
   "cell_type": "markdown",
   "metadata": {},
   "source": [
    "## Promedio anual de Cmg"
   ]
  },
  {
   "cell_type": "code",
   "execution_count": 5,
   "metadata": {},
   "outputs": [],
   "source": [
    "#lECTURA \n",
    "cmgy= pd.read_sql_query(\"SELECT * From 'marginal_cost' \",cnx_year)\n"
   ]
  },
  {
   "cell_type": "code",
   "execution_count": 6,
   "metadata": {},
   "outputs": [
    {
     "name": "stderr",
     "output_type": "stream",
     "text": [
      "/home/pcontreras/.local/lib/python3.7/site-packages/pandas/core/indexing.py:844: SettingWithCopyWarning: \n",
      "A value is trying to be set on a copy of a slice from a DataFrame.\n",
      "Try using .loc[row_indexer,col_indexer] = value instead\n",
      "\n",
      "See the caveats in the documentation: https://pandas.pydata.org/pandas-docs/stable/user_guide/indexing.html#returning-a-view-versus-a-copy\n",
      "  self.obj[key] = _infer_fill_value(value)\n",
      "/home/pcontreras/.local/lib/python3.7/site-packages/pandas/core/indexing.py:965: SettingWithCopyWarning: \n",
      "A value is trying to be set on a copy of a slice from a DataFrame.\n",
      "Try using .loc[row_indexer,col_indexer] = value instead\n",
      "\n",
      "See the caveats in the documentation: https://pandas.pydata.org/pandas-docs/stable/user_guide/indexing.html#returning-a-view-versus-a-copy\n",
      "  self.obj[item] = s\n"
     ]
    },
    {
     "data": {
      "image/png": "[encoded data removed]",
      "text/plain": [
       "<Figure size 720x360 with 1 Axes>"
      ]
     },
     "metadata": {},
     "output_type": "display_data"
    }
   ],
   "source": [
    "#Seteo Parámetros\n",
    "hid='15'\n",
    "\n",
    "####CHEBY###\n",
    "#Filtrar por hid\n",
    "dfbar=cmgy[(cmgy['scenario_id']==15)]\n",
    "\n",
    "#Promedio anual\n",
    "sr=pd.Series(dfbar.datetime) #datetime to serie\n",
    "dfbar.loc[:,'Año']=pd.to_datetime(sr).dt.year #year attribute\n",
    "result=dfbar.groupby('Año').mean()\n",
    "result=result[:-1] #cheby tiró un año adicional, asi que borro esa fila \n",
    "\n",
    "####PLP####\n",
    "#Filtrar por hidrologia\n",
    "dfbar2=df1[df1['Hidro']==hid]\n",
    "#merge por bloques entre dfbar y bloques.csv\n",
    "# date=df2.groupby('Año').mean()\n",
    "result2= pd.merge(dfbar2, df2, on='Bloque')\n",
    "#Agrupar por año\n",
    "result2=result2.groupby('Año').mean()\n",
    "# result2.loc[:,'model']= [\"plp\" for x in range(len(result2))] #crea columna con tipo del modelo \n",
    "#se añade como columna a df de cheby\n",
    "result.loc[:,'plp']=result2['CMgBar'].tolist()\n",
    "result.loc[:,'cheby']=result['value'].tolist()\n",
    "#Visualizacion\n",
    "sns.set()\n",
    "result[['cheby','plp']].plot.bar(rot=0,width=1, figsize=(10,5))\n",
    "plt.ylabel('CMg [USD/MWh]'), plt.title('Promedio Anual CMg Uni', fontsize=18)\n",
    "pass\n"
   ]
  },
  {
   "cell_type": "markdown",
   "metadata": {},
   "source": [
    "## Promedio mensual de Cmg "
   ]
  },
  {
   "cell_type": "code",
   "execution_count": 7,
   "metadata": {},
   "outputs": [
    {
     "data": {
      "image/png": "[encoded data removed]",
      "text/plain": [
       "<Figure size 720x360 with 1 Axes>"
      ]
     },
     "metadata": {},
     "output_type": "display_data"
    }
   ],
   "source": [
    "#Seteo Parámetros\n",
    "hid='15'\n",
    "\n",
    "####CHEBY###\n",
    "#Filtrar por hid\n",
    "dfbar=cmg[(cmg['scenario_id']==15)]\n",
    "\n",
    "#Promedio por mes\n",
    "sr=pd.Series(dfbar.datetime) #datetime to serie\n",
    "dfbar.loc[:,'Año']=pd.to_datetime(sr).dt.year #year attribute\n",
    "dfbar.loc[:,'Mes']=pd.to_datetime(sr).dt.month #month attribute\n",
    "result=dfbar.groupby(['Año','Mes']).mean()\n",
    "result['Mes_n']=np.arange(1,len(result)+1)\n",
    "result=result[:-1] #cheby tiró un año adicional, asi que borro esa fila \n",
    "\n",
    "####PLP####\n",
    "#Filtrar por hidrologia\n",
    "dfbar2=df1[df1['Hidro']==hid]\n",
    "#merge por bloques entre dfbar y bloques.csv\n",
    "date=df2.groupby(['Año','Mes']).mean()\n",
    "date['Mes_n']=np.arange(1,len(date)+1)\n",
    "result2= pd.merge(dfbar2, date[['Bloque','Mes_n']], on='Bloque')\n",
    "# #Agrupar por año\n",
    "# result2=result2.groupby('Año').mean()\n",
    "result2.loc[:,'model']= [\"plp\" for x in range(len(result2))] #crea columna con tipo del modelo \n",
    "#se añade como columna a df de cheby\n",
    "result.loc[:,'plp']=result2['CMgBar'].tolist()\n",
    "result.loc[:,'cheby']=result['value'].tolist()\n",
    "#Visualizacion\n",
    "sns.set()\n",
    "result[['cheby','plp']].plot(figsize=(10,5))\n",
    "plt.ylabel('CMg [USD/MWh]'), plt.title('Promedio mensual CMg Uni', fontsize=18)\n",
    "pass"
   ]
  },
  {
   "cell_type": "markdown",
   "metadata": {},
   "source": [
    "## CMg mensual promedio"
   ]
  },
  {
   "cell_type": "code",
   "execution_count": null,
   "metadata": {},
   "outputs": [],
   "source": [
    "# #Seteo Parámetros\n",
    "# bar='44'\n",
    "# hid='15'\n",
    "# bar_name='Valdesia_138'\n",
    "\n",
    "# ####CHEBY###\n",
    "# #Filtrar por barra \n",
    "# dfbar=cmgh[(cmgh['label']==bar)]\n",
    "\n",
    "# #Promedio por año \n",
    "# sr=pd.Series(dfbar.datetime) #datetime to serie\n",
    "# dfbar.loc[:,'Mes']=pd.to_datetime(sr).dt.month #year attribute\n",
    "# result=dfbar.groupby('Mes').mean()\n",
    "\n",
    "\n",
    "# ####PLP####\n",
    "# #Filtrar por barra e hidrologia\n",
    "# dfbar2=df1[(df1['BarNom']==bar_name) & (df1['Hidro']==hid)]\n",
    "# #merge por bloques entre dfbar y bloques.csv\n",
    "# result2= pd.merge(dfbar2, df2, on='Bloque')\n",
    "# #Agrupar por año\n",
    "# result2=result2.groupby('Mes').mean()\n",
    "# result2.loc[:,'model']= [\"plp\" for x in range(len(result2))] #crea columna con tipo del modelo \n",
    "# #se añade como columna a df de cheby\n",
    "# result.loc[:,'plp']=result2['CMgBar'].tolist()\n",
    "# result.loc[:,'cheby']=result['value'].tolist()\n",
    "# #Visualizacion\n",
    "# sns.set()\n",
    "# fig, ax = plt.subplots()\n",
    "# fig.set_size_inches(9, 5) \n",
    "# sns.lineplot(x=result[['cheby','plp']].index,y='cheby',data=result[['cheby','plp']],color='b',label='cheby',linewidth=3)\n",
    "# sns.lineplot(x=result[['cheby','plp']].index,y='plp',data=result[['cheby','plp']],color='orange',label='plp',linewidth=3)\n",
    "\n",
    "# plt.ylabel('CMg [USD/MWh]'), plt.title('Promedio mensual CMg barra '+str(bar_name), fontsize=18),plt.legend()"
   ]
  },
  {
   "cell_type": "markdown",
   "metadata": {},
   "source": [
    "# Generación por Tecnología"
   ]
  },
  {
   "cell_type": "markdown",
   "metadata": {},
   "source": [
    "## Generacion mensual por tecnología PLP"
   ]
  },
  {
   "cell_type": "code",
   "execution_count": 18,
   "metadata": {},
   "outputs": [
    {
     "data": {
      "text/html": [
       "<div>\n",
       "<style scoped>\n",
       "    .dataframe tbody tr th:only-of-type {\n",
       "        vertical-align: middle;\n",
       "    }\n",
       "\n",
       "    .dataframe tbody tr th {\n",
       "        vertical-align: top;\n",
       "    }\n",
       "\n",
       "    .dataframe thead th {\n",
       "        text-align: right;\n",
       "    }\n",
       "</style>\n",
       "<table border=\"1\" class=\"dataframe\">\n",
       "  <thead>\n",
       "    <tr style=\"text-align: right;\">\n",
       "      <th></th>\n",
       "      <th>Hidro</th>\n",
       "      <th>Bloque</th>\n",
       "      <th>TipoEtapa</th>\n",
       "      <th>CenNum</th>\n",
       "      <th>CenNom</th>\n",
       "      <th>CenTip</th>\n",
       "      <th>CenBar</th>\n",
       "      <th>BarNom</th>\n",
       "      <th>CenQgen</th>\n",
       "      <th>CenPgen</th>\n",
       "      <th>CenEgen</th>\n",
       "      <th>CenInyP</th>\n",
       "      <th>CenInyE</th>\n",
       "      <th>CenRen</th>\n",
       "      <th>CenCVar</th>\n",
       "      <th>CenCostOp</th>\n",
       "      <th>CenPMax</th>\n",
       "      <th>Tecnolgía</th>\n",
       "      <th>potencia</th>\n",
       "    </tr>\n",
       "  </thead>\n",
       "  <tbody>\n",
       "    <tr>\n",
       "      <th>0</th>\n",
       "      <td>15</td>\n",
       "      <td>1</td>\n",
       "      <td>5 Bloques</td>\n",
       "      <td>1</td>\n",
       "      <td>PAUTE</td>\n",
       "      <td>Emb</td>\n",
       "      <td>1</td>\n",
       "      <td>Uninodal</td>\n",
       "      <td>73.52</td>\n",
       "      <td>411.14</td>\n",
       "      <td>112.65</td>\n",
       "      <td>20968.30</td>\n",
       "      <td>5745.32</td>\n",
       "      <td>5.59</td>\n",
       "      <td>0.0</td>\n",
       "      <td>0.0</td>\n",
       "      <td>1014.3</td>\n",
       "      <td>Hidroelectrica</td>\n",
       "      <td>NaN</td>\n",
       "    </tr>\n",
       "    <tr>\n",
       "      <th>1</th>\n",
       "      <td>15</td>\n",
       "      <td>2</td>\n",
       "      <td>5 Bloques</td>\n",
       "      <td>1</td>\n",
       "      <td>PAUTE</td>\n",
       "      <td>Emb</td>\n",
       "      <td>1</td>\n",
       "      <td>Uninodal</td>\n",
       "      <td>142.31</td>\n",
       "      <td>795.80</td>\n",
       "      <td>74.01</td>\n",
       "      <td>40585.69</td>\n",
       "      <td>3774.47</td>\n",
       "      <td>5.59</td>\n",
       "      <td>0.0</td>\n",
       "      <td>0.0</td>\n",
       "      <td>1014.3</td>\n",
       "      <td>Hidroelectrica</td>\n",
       "      <td>NaN</td>\n",
       "    </tr>\n",
       "    <tr>\n",
       "      <th>2</th>\n",
       "      <td>15</td>\n",
       "      <td>3</td>\n",
       "      <td>5 Bloques</td>\n",
       "      <td>1</td>\n",
       "      <td>PAUTE</td>\n",
       "      <td>Emb</td>\n",
       "      <td>1</td>\n",
       "      <td>Uninodal</td>\n",
       "      <td>133.29</td>\n",
       "      <td>745.35</td>\n",
       "      <td>49.94</td>\n",
       "      <td>38012.64</td>\n",
       "      <td>2546.85</td>\n",
       "      <td>5.59</td>\n",
       "      <td>0.0</td>\n",
       "      <td>0.0</td>\n",
       "      <td>1014.3</td>\n",
       "      <td>Hidroelectrica</td>\n",
       "      <td>NaN</td>\n",
       "    </tr>\n",
       "    <tr>\n",
       "      <th>3</th>\n",
       "      <td>15</td>\n",
       "      <td>4</td>\n",
       "      <td>5 Bloques</td>\n",
       "      <td>1</td>\n",
       "      <td>PAUTE</td>\n",
       "      <td>Emb</td>\n",
       "      <td>1</td>\n",
       "      <td>Uninodal</td>\n",
       "      <td>142.31</td>\n",
       "      <td>795.80</td>\n",
       "      <td>98.68</td>\n",
       "      <td>40585.69</td>\n",
       "      <td>5032.63</td>\n",
       "      <td>5.59</td>\n",
       "      <td>0.0</td>\n",
       "      <td>0.0</td>\n",
       "      <td>1014.3</td>\n",
       "      <td>Hidroelectrica</td>\n",
       "      <td>NaN</td>\n",
       "    </tr>\n",
       "    <tr>\n",
       "      <th>4</th>\n",
       "      <td>15</td>\n",
       "      <td>5</td>\n",
       "      <td>5 Bloques</td>\n",
       "      <td>1</td>\n",
       "      <td>PAUTE</td>\n",
       "      <td>Emb</td>\n",
       "      <td>1</td>\n",
       "      <td>Uninodal</td>\n",
       "      <td>105.94</td>\n",
       "      <td>592.42</td>\n",
       "      <td>110.19</td>\n",
       "      <td>30213.19</td>\n",
       "      <td>5619.65</td>\n",
       "      <td>5.59</td>\n",
       "      <td>0.0</td>\n",
       "      <td>0.0</td>\n",
       "      <td>1014.3</td>\n",
       "      <td>Hidroelectrica</td>\n",
       "      <td>NaN</td>\n",
       "    </tr>\n",
       "  </tbody>\n",
       "</table>\n",
       "</div>"
      ],
      "text/plain": [
       "  Hidro  Bloque  TipoEtapa  CenNum CenNom CenTip  CenBar    BarNom  CenQgen  \\\n",
       "0    15       1  5 Bloques       1  PAUTE    Emb       1  Uninodal    73.52   \n",
       "1    15       2  5 Bloques       1  PAUTE    Emb       1  Uninodal   142.31   \n",
       "2    15       3  5 Bloques       1  PAUTE    Emb       1  Uninodal   133.29   \n",
       "3    15       4  5 Bloques       1  PAUTE    Emb       1  Uninodal   142.31   \n",
       "4    15       5  5 Bloques       1  PAUTE    Emb       1  Uninodal   105.94   \n",
       "\n",
       "   CenPgen  CenEgen   CenInyP  CenInyE  CenRen  CenCVar  CenCostOp  CenPMax  \\\n",
       "0   411.14   112.65  20968.30  5745.32    5.59      0.0        0.0   1014.3   \n",
       "1   795.80    74.01  40585.69  3774.47    5.59      0.0        0.0   1014.3   \n",
       "2   745.35    49.94  38012.64  2546.85    5.59      0.0        0.0   1014.3   \n",
       "3   795.80    98.68  40585.69  5032.63    5.59      0.0        0.0   1014.3   \n",
       "4   592.42   110.19  30213.19  5619.65    5.59      0.0        0.0   1014.3   \n",
       "\n",
       "        Tecnolgía potencia  \n",
       "0  Hidroelectrica      NaN  \n",
       "1  Hidroelectrica      NaN  \n",
       "2  Hidroelectrica      NaN  \n",
       "3  Hidroelectrica      NaN  \n",
       "4  Hidroelectrica      NaN  "
      ]
     },
     "execution_count": 18,
     "metadata": {},
     "output_type": "execute_result"
    }
   ],
   "source": [
    "#Filtrar por hidrología\n",
    "dfcen=df5[(df5['Hidro']=='15')]\n",
    "df6=df6.rename(columns={\"cen_name\": \"CenNom\"})\n",
    "#se añade columna cen_type a plpcen\n",
    "cen = pd.merge(dfcen, df6, on='CenNom')\n",
    "cen.head()\n",
    "#df6.head()"
   ]
  },
  {
   "cell_type": "code",
   "execution_count": 20,
   "metadata": {},
   "outputs": [
    {
     "data": {
      "text/html": [
       "<div>\n",
       "<style scoped>\n",
       "    .dataframe tbody tr th:only-of-type {\n",
       "        vertical-align: middle;\n",
       "    }\n",
       "\n",
       "    .dataframe tbody tr th {\n",
       "        vertical-align: top;\n",
       "    }\n",
       "\n",
       "    .dataframe thead th {\n",
       "        text-align: right;\n",
       "    }\n",
       "</style>\n",
       "<table border=\"1\" class=\"dataframe\">\n",
       "  <thead>\n",
       "    <tr style=\"text-align: right;\">\n",
       "      <th></th>\n",
       "      <th>Tecnolgía</th>\n",
       "      <th>Hidroelectrica</th>\n",
       "      <th>Mci</th>\n",
       "      <th>SI</th>\n",
       "      <th>Turbogas</th>\n",
       "      <th>Turbovapor</th>\n",
       "      <th>Mes_n</th>\n",
       "    </tr>\n",
       "    <tr>\n",
       "      <th>Año</th>\n",
       "      <th>Mes</th>\n",
       "      <th></th>\n",
       "      <th></th>\n",
       "      <th></th>\n",
       "      <th></th>\n",
       "      <th></th>\n",
       "      <th></th>\n",
       "    </tr>\n",
       "  </thead>\n",
       "  <tbody>\n",
       "    <tr>\n",
       "      <th rowspan=\"5\" valign=\"top\">2019</th>\n",
       "      <th>1</th>\n",
       "      <td>1752.85</td>\n",
       "      <td>189.28</td>\n",
       "      <td>1.12</td>\n",
       "      <td>134.58</td>\n",
       "      <td>216.16</td>\n",
       "      <td>1</td>\n",
       "    </tr>\n",
       "    <tr>\n",
       "      <th>2</th>\n",
       "      <td>1658.09</td>\n",
       "      <td>221.09</td>\n",
       "      <td>1.01</td>\n",
       "      <td>125.63</td>\n",
       "      <td>216.19</td>\n",
       "      <td>2</td>\n",
       "    </tr>\n",
       "    <tr>\n",
       "      <th>3</th>\n",
       "      <td>2235.67</td>\n",
       "      <td>46.23</td>\n",
       "      <td>0.00</td>\n",
       "      <td>92.23</td>\n",
       "      <td>71.83</td>\n",
       "      <td>3</td>\n",
       "    </tr>\n",
       "    <tr>\n",
       "      <th>4</th>\n",
       "      <td>2365.05</td>\n",
       "      <td>0.00</td>\n",
       "      <td>0.00</td>\n",
       "      <td>0.00</td>\n",
       "      <td>0.00</td>\n",
       "      <td>4</td>\n",
       "    </tr>\n",
       "    <tr>\n",
       "      <th>5</th>\n",
       "      <td>2420.02</td>\n",
       "      <td>0.00</td>\n",
       "      <td>0.00</td>\n",
       "      <td>0.00</td>\n",
       "      <td>0.00</td>\n",
       "      <td>5</td>\n",
       "    </tr>\n",
       "  </tbody>\n",
       "</table>\n",
       "</div>"
      ],
      "text/plain": [
       "Tecnolgía  Hidroelectrica     Mci    SI  Turbogas  Turbovapor  Mes_n\n",
       "Año  Mes                                                            \n",
       "2019 1            1752.85  189.28  1.12    134.58      216.16      1\n",
       "     2            1658.09  221.09  1.01    125.63      216.19      2\n",
       "     3            2235.67   46.23  0.00     92.23       71.83      3\n",
       "     4            2365.05    0.00  0.00      0.00        0.00      4\n",
       "     5            2420.02    0.00  0.00      0.00        0.00      5"
      ]
     },
     "execution_count": 20,
     "metadata": {},
     "output_type": "execute_result"
    }
   ],
   "source": [
    "#merge entre cen y bloques.csv \n",
    "tech=pd.merge(cen[['CenEgen','Bloque','Tecnolgía','CenNum','CenNom']],df2[['Bloque','Año','Mes']],on='Bloque')\n",
    "matrix=pd.pivot_table(tech,values='CenEgen',index=['Año','Mes'],columns='Tecnolgía',aggfunc=np.sum)\n",
    "matrix['Mes_n']=np.arange(1,len(matrix)+1)\n",
    "matrix.head()"
   ]
  },
  {
   "cell_type": "code",
   "execution_count": 22,
   "metadata": {},
   "outputs": [
    {
     "data": {
      "image/png": "[encoded data removed]",
      "text/plain": [
       "<Figure size 1080x720 with 1 Axes>"
      ]
     },
     "metadata": {},
     "output_type": "display_data"
    }
   ],
   "source": [
    "\n",
    "#labels =['Carbon','Gas_Natural','Fuel_Oil','Hidro_Pasada','Hidro_ERNC','Hidro_Embalse','Biomasa','Eolica','Solar']\n",
    "labels = ['Hidroelectrica','Mci','SI','Turbogas','Turbovapor']\n",
    "technology=matrix[labels]\n",
    "sizes1 =technology.sum().tolist()\n",
    "total=sum(sizes1)\n",
    "technology['Mes_n']=matrix['Mes_n']\n",
    "paleta=['dimgrey','orange','saddlebrown','teal','lightseagreen']#,'cyan','green','lime','yellow']\n",
    "figure(figsize=(15,10))\n",
    "plt.stackplot('Mes_n','Hidroelectrica','Mci','SI','Turbogas','Turbovapor',data=technology,colors=paleta,labels=labels)\n",
    "\n",
    "plt.legend(\n",
    "    loc='upper left',\n",
    "    labels=['%s, %1.01f%%' % (\n",
    "        l, (float(s) / total) * 100) for l, s in zip(labels, sizes1)],\n",
    "    prop={'size': 13},\n",
    "    bbox_to_anchor=(0.0, 1),\n",
    ")\n",
    "plt.title('Generación Mensual PLP 2018-2030',fontsize=16)\n",
    "pass\n"
   ]
  },
  {
   "cell_type": "code",
   "execution_count": null,
   "metadata": {},
   "outputs": [],
   "source": [
    "#GENERACION Embalses PLP\n",
    "tech[tech['cen_type']=='Hidro_Embalse'].groupby('CenNom').sum()"
   ]
  },
  {
   "cell_type": "code",
   "execution_count": null,
   "metadata": {},
   "outputs": [],
   "source": [
    "#GENERACIÓN POTENCIA POR EMBALSES PLP\n",
    "cen2=pd.merge(cen[['CenPgen','Bloque','cen_type','CenNum','CenNom']],df2[['Bloque','Etapa']],on='Bloque')\n",
    "gen_emb=cen2[cen2['cen_type']=='Hidro_Embalse'][['CenPgen','CenNum','CenNom','Bloque','Etapa']]\n",
    "gen_emb=pd.pivot_table(gen_emb,values='CenPgen',index='Etapa',columns='CenNom',aggfunc=np.mean)\n",
    "labels=gen_emb.columns.tolist()\n",
    "sns.set()\n",
    "fig, ax = plt.subplots(nrows=len(labels))\n",
    "fig.set_size_inches(20,80)\n",
    "for i in range(len(labels)):\n",
    "    ax[i].plot(gen_emb.index,gen_emb[labels[i]],label=str(labels[i]))\n",
    "    ax[i].set_title(str(labels[i]),fontsize=14)\n",
    "plt.subplots_adjust(wspace=0.8,hspace=0.2),plt.show()\n",
    "pass\n",
    "# gen_emb[labels[:2]].plot.line(figsize=(35,15),linewidth=2)\n"
   ]
  },
  {
   "cell_type": "markdown",
   "metadata": {},
   "source": [
    "# Generación mensual por tecnología Cheby"
   ]
  },
  {
   "cell_type": "code",
   "execution_count": null,
   "metadata": {
    "scrolled": true
   },
   "outputs": [],
   "source": [
    "# tech=pd.read_sql_query(\"SELECT * From 'energy_technology' \",cnx_month)\n",
    "# tec=tech[tech['scenario_id']==15]\n",
    "# sr=pd.Series(tech.datetime)\n",
    "# tech['Mes']=pd.to_datetime(sr).dt.month\n",
    "# tech['Año']=pd.to_datetime(sr).dt.year\n",
    "# matrix=pd.pivot_table(tech,values='value',index=['Año','Mes'],columns='label',aggfunc=np.sum)\n",
    "# matrix=matrix[:-1]\n",
    "# matrix['Mes_n']=np.arange(1,len(matrix)+1)\n",
    "# matrix.head()\n",
    "# # matrix[(50<matrix['Mes_n'] ) & (matrix['Mes_n']<100)]"
   ]
  },
  {
   "cell_type": "code",
   "execution_count": null,
   "metadata": {},
   "outputs": [],
   "source": [
    "# labels =['Carbon','GNL','FuelOil','Pasada','Serie','Embalse','Biomasa','Eolica','Solar']\n",
    "# paleta=['dimgrey','orange','saddlebrown','teal','lightseagreen','cyan','green','lime','yellow']\n",
    "# sizes =matrix.sum().tolist()\n",
    "# total=sum(sizes)\n",
    "# figure(figsize=(15,10))\n",
    "# plt.stackplot('Mes_n','Carbon','GNL','FuelOil','Pasada','Serie','Embalse','Biomasa','Eolica','Solar',data=matrix,colors=paleta,labels=labels)\n",
    "\n",
    "# plt.legend(\n",
    "#     loc='upper left',\n",
    "#     labels=['%s, %1.01f%%' % (\n",
    "#         l, (float(s) / total) * 100) for l, s in zip(labels, sizes)],\n",
    "#     prop={'size': 13},\n",
    "#     bbox_to_anchor=(0.0, 1),\n",
    "# )\n",
    "# plt.title('Generación mensual Cheby RD 2018-2030 USANDO TECH-ENERGY',fontsize=18)\n",
    "# pass"
   ]
  },
  {
   "cell_type": "code",
   "execution_count": 30,
   "metadata": {
    "scrolled": true
   },
   "outputs": [
    {
     "data": {
      "text/plain": [
       "<matplotlib.axes._subplots.AxesSubplot at 0x7f60248277d0>"
      ]
     },
     "execution_count": 30,
     "metadata": {},
     "output_type": "execute_result"
    },
    {
     "data": {
      "image/png": "[encoded data removed]",
      "text/plain": [
       "<Figure size 432x288 with 1 Axes>"
      ]
     },
     "metadata": {},
     "output_type": "display_data"
    }
   ],
   "source": [
    "tech=pd.read_csv('generacion_tech_month_mwh_rd.csv')\n",
    "matrix=pd.pivot_table(tech,values='value',index='mes',columns='type',aggfunc=np.sum)\n",
    "#labels = ['Hidroelectrica','Mci','SI','Turbogas','Turbovapor']\n",
    "#technology=matrix[labels]\n",
    "#paleta=['dimgrey','orange','saddlebrown','teal','lightseagreen']#,'cyan','green','lime','yellow']\n",
    "#sizes2 =technology.sum().tolist()\n",
    "#total=sum(sizes2)\n",
    "#figure(figsize=(15,10))\n",
    "#plt.stackplot(technology.index,'Hidroelectrica','Mci','SI','Turbogas','Turbovapor',data=matrix,colors=paleta,labels=labels)\n",
    "\n",
    "#plt.legend(\n",
    "#    loc='upper left',\n",
    "#    labels=['%s, %1.01f%%' % (\n",
    "#        l, (float(s) / total) * 100) for l, s in zip(labels, sizes2)],\n",
    "#    prop={'size': 13},\n",
    "#    bbox_to_anchor=(0.0, 1),\n",
    "#)\n",
    "#plt.title('Generación mensual Cheby RD 2018-2030',fontsize=18)\n",
    "#pass\n",
    "matrix.plot.area()"
   ]
  },
  {
   "cell_type": "code",
   "execution_count": null,
   "metadata": {},
   "outputs": [],
   "source": [
    "#Comparacion por SUMA DE GENERACION ENERGIA TOTAL 2018-2030 PLP-CHEBY\n",
    "sizes3=[np.round(sizes2[i]/1000,2 ) for i in range(len(sizes2))]\n",
    "x=pd.DataFrame(list(zip(sizes1,sizes3)),columns=['PLP','CHEBY'],index=labels)\n",
    "x"
   ]
  },
  {
   "cell_type": "code",
   "execution_count": null,
   "metadata": {
    "scrolled": true
   },
   "outputs": [],
   "source": [
    "#GENERACION EMBALSES CHEBY\n",
    "tipo=pd.read_csv('Generator.csv',dtype={\"id\":object})\n",
    "tipo=tipo.rename(columns={'id':'label'})\n",
    "energia=pd.merge(gen,tipo[['label','name','type']],on='label')\n",
    "energia[(energia['type']=='Embalse') & (energia['scenario_id']==15)].groupby('name').sum()"
   ]
  },
  {
   "cell_type": "code",
   "execution_count": null,
   "metadata": {},
   "outputs": [],
   "source": [
    "###################GENERACIÓN POR EMBALSES CHEBY#############################################\n",
    "\n",
    "#merge con tipos de generacion\n",
    "tipo=pd.read_csv('Generator.csv',dtype={\"id\":object})\n",
    "tipo=tipo.rename(columns={'id':'label'})\n",
    "energia=pd.merge(gen,tipo[['label','name','type']],on='label')\n",
    "#filtrar por hidrologia  y embalses\n",
    "emb_cheby=energia[(energia['scenario_id']==15) & (energia['type']=='Embalse')]\n",
    "sr=pd.Series(emb_cheby.datetime)\n",
    "emb_cheby.loc[:,'Mes']=pd.to_datetime(sr).dt.month\n",
    "emb_cheby.loc[:,'Año']=pd.to_datetime(sr).dt.year\n",
    "\n",
    "#llevar los embalses a las columnas\n",
    "emb_cheby=pd.pivot_table(emb_cheby,values='value',index=['Año','Mes'],columns='name',aggfunc=np.mean)\n",
    "emb_cheby=emb_cheby[:-1]\n",
    "emb_cheby.index=np.arange(1,len(emb_cheby)+1)\n",
    "\n",
    "\n",
    "#####################GENERACIÓN POTENCIA POR EMBALSES PLP#########################################\n",
    "cen2=pd.merge(cen[['CenPgen','Bloque','cen_type','CenNum','CenNom']],df2[['Bloque','Etapa']],on='Bloque')\n",
    "gen_emb=cen2[cen2['cen_type']=='Hidro_Embalse'][['CenPgen','CenNum','CenNom','Bloque','Etapa']]\n",
    "gen_emb=pd.pivot_table(gen_emb,values='CenPgen',index='Etapa',columns='CenNom',aggfunc=np.mean)\n",
    "\n",
    "\n",
    "#PLOT\n",
    "\n",
    "sns.set()\n",
    "labels=emb_cheby.columns.tolist()\n",
    "fig, ax = plt.subplots(nrows=len(labels))\n",
    "fig.set_size_inches(20,80)\n",
    "for i in range(len(labels)):\n",
    "    ax[i].plot(emb_cheby.index,emb_cheby[labels[i]],label='cheby',color='r',linewidth=2)\n",
    "    ax[i].plot(gen_emb.index,gen_emb[labels[i]],label='plp',color='b',linewidth=2)\n",
    "    ax[i].set_title(str(labels[i]),fontsize=14)\n",
    "    ax[i].legend(loc='upper right')\n",
    "plt.subplots_adjust(wspace=0.8,hspace=0.2)\n",
    "plt.show()\n",
    "pass\n",
    "\n"
   ]
  },
  {
   "cell_type": "code",
   "execution_count": null,
   "metadata": {},
   "outputs": [],
   "source": []
  },
  {
   "cell_type": "markdown",
   "metadata": {},
   "source": [
    "## Revisión de Embalses"
   ]
  },
  {
   "cell_type": "code",
   "execution_count": null,
   "metadata": {},
   "outputs": [],
   "source": [
    "# cnx= sqlite3.connect('../Study1_1_10.db')\n",
    "# #get table names\n",
    "# res = cnx.execute(\"SELECT name FROM sqlite_master WHERE type='table';\")\n",
    "# for name in res:\n",
    "#     print(name[0])\n",
    "# emb= pd.read_sql_query(\"SELECT * From 'Waterway.flow_values' \",cnx)\n",
    "# vol=pd.read_sql_query(\"SELECT * From 'Reservoir.vol_values' \",cnx)\n",
    "vol.groupby('label').mean()"
   ]
  },
  {
   "cell_type": "code",
   "execution_count": null,
   "metadata": {},
   "outputs": [],
   "source": [
    "#filtrar por hidrologia\n",
    "embalse=vol[(vol['scenario_id']==15)]\n",
    "#filtrar por label \n",
    "embalse=embalse[embalse['label']=='1']\n",
    "#Fecha\n",
    "sr=pd.Series(embalse.datetime)\n",
    "embalse.loc[:,'Año']=pd.to_datetime(sr).dt.year\n",
    "embalse.loc[:,'Mes']=pd.to_datetime(sr).dt.month\n",
    "# df=pd.pivot_table(embalse,values='value',index=['Año','Mes'],columns='id',aggfunc=np.mean)\n",
    "embalse=embalse.groupby(['Año','Mes']).mean()\n",
    "# # df['Mes_n']=np.arange(1,len(df)+1)\n",
    "sns.set()\n",
    "embalse['value'].plot(figsize=(15,5),linewidth=3)\n",
    "plt.title('Volumen Jiguey Cheby',fontsize=18)\n"
   ]
  },
  {
   "cell_type": "code",
   "execution_count": null,
   "metadata": {},
   "outputs": [],
   "source": [
    "#filtrar por embalse\n",
    "\n",
    "# embalse=emb[(emb['id']<5) & (emb['id']>2)]\n",
    "# #Fecha\n",
    "# embalse.loc[:,'Fecha']=pd.date_range('2018-01-01 01:00:00', periods=len(embalse), freq='H')\n",
    "# embalse.loc[:,'Año']=embalse.Fecha.dt.year\n",
    "# embalse.loc[:,'Mes']=embalse.Fecha.dt.month\n",
    "# df=pd.pivot_table(embalse,values='value',index=['Año','Mes'],columns='id',aggfunc=np.mean)\n",
    "# # df=embalse.groupby(['Año','Mes']).mean()\n",
    "# # df['Mes_n']=np.arange(1,len(df)+1)\n",
    "# sns.set()\n",
    "# df.plot(figsize=(15,5),linewidth=3)\n",
    "# plt.title('Waterflow Aguacate')"
   ]
  },
  {
   "cell_type": "code",
   "execution_count": null,
   "metadata": {},
   "outputs": [],
   "source": [
    "df3.head()"
   ]
  },
  {
   "cell_type": "code",
   "execution_count": null,
   "metadata": {
    "scrolled": true
   },
   "outputs": [],
   "source": [
    "#merge entre plpemb y bloques.csv \n",
    "emb=pd.merge(df2[['Bloque','Año','Mes']],df3[['EmbFac','Bloque','EmbVini','EmbNom','EmbNum','Hidro']],on='Bloque')\n",
    "# df3=df3[(df3['EmbNum']==1) & (df3['Hidro']=='15')]\n",
    "# emb=df3[['EmbFac','Bloque','EmbVfin','EmbNom','EmbNum','Hidro']]\n",
    "#filtrar por embalse e hidrologia \n",
    "emb=emb[(emb['EmbNum']==1) & (emb['Hidro']==15)]\n",
    "#promedia el VolFin del embalse por cada año\n",
    "emb=emb.groupby(['Año','Mes']).mean()\n",
    "emb['Volf']=emb['EmbVini']*emb['EmbFac']\n",
    "# emb.index=emb.Bloque\n",
    "sns.set()\n",
    "emb['Volf'].plot(figsize=(15,5),linewidth=3)\n",
    "plt.ylabel('m3'), plt.title(' Vini de Embalse Jiguey PLP', fontsize=18), plt.legend() \n",
    "plt.show()\n"
   ]
  },
  {
   "cell_type": "code",
   "execution_count": null,
   "metadata": {},
   "outputs": [],
   "source": [
    "#CHEBY\n",
    "#filtrar por hidrologia\n",
    "embalse=vol[(vol['scenario_id']==15)]\n",
    "#filtrar por label \n",
    "embalse=embalse[embalse['label']=='2']\n",
    "#Fecha\n",
    "sr=pd.Series(embalse.datetime)\n",
    "embalse.loc[:,'Año']=pd.to_datetime(sr).dt.year\n",
    "embalse.loc[:,'Mes']=pd.to_datetime(sr).dt.month\n",
    "# df=pd.pivot_table(embalse,values='value',index=['Año','Mes'],columns='id',aggfunc=np.mean)\n",
    "embalse=embalse.groupby(['Año','Mes']).mean()\n",
    "# # df['Mes_n']=np.arange(1,len(df)+1)\n",
    "sns.set()\n",
    "embalse['value'].plot(figsize=(15,5),linewidth=3)\n",
    "plt.title('Volumen Aguacate Cheby',fontsize=18)"
   ]
  },
  {
   "cell_type": "code",
   "execution_count": null,
   "metadata": {},
   "outputs": [],
   "source": [
    "#merge entre plpemb y bloques.csv \n",
    "emb=pd.merge(df2[['Bloque','Año','Mes']],df3[['EmbFac','Bloque','EmbVfin','EmbNom','EmbNum','Hidro']],on='Bloque')\n",
    "# df3=df3[(df3['EmbNum']==1) & (df3['Hidro']=='15')]\n",
    "# emb=df3[['EmbFac','Bloque','EmbVfin','EmbNom','EmbNum','Hidro']]\n",
    "#filtrar por embalse e hidrologia \n",
    "emb=emb[(emb['EmbNum']==2) & (emb['Hidro']==15)]\n",
    "#promedia el VolFin del embalse por cada año\n",
    "emb=emb.groupby(['Año','Mes']).mean()\n",
    "emb['Volf']=emb['EmbVfin']*emb['EmbFac']\n",
    "# emb.index=emb.Bloque\n",
    "sns.set()\n",
    "emb['Volf'].plot(figsize=(15,5),linewidth=3)\n",
    "plt.ylabel('m3'), plt.title(' Vfin de Embalse Agucate PLP', fontsize=18), plt.legend() \n",
    "plt.show()\n"
   ]
  },
  {
   "cell_type": "code",
   "execution_count": null,
   "metadata": {},
   "outputs": [],
   "source": [
    "#CHEBY\n",
    "#filtrar por hidrologia\n",
    "embalse=vol[(vol['scenario_id']==15)]\n",
    "#filtrar por label \n",
    "embalse=embalse[embalse['label']=='3']\n",
    "#Fecha\n",
    "sr=pd.Series(embalse.datetime)\n",
    "embalse.loc[:,'Año']=pd.to_datetime(sr).dt.year\n",
    "embalse.loc[:,'Mes']=pd.to_datetime(sr).dt.month\n",
    "# df=pd.pivot_table(embalse,values='value',index=['Año','Mes'],columns='id',aggfunc=np.mean)\n",
    "embalse=embalse.groupby(['Año','Mes']).mean()\n",
    "# # df['Mes_n']=np.arange(1,len(df)+1)\n",
    "sns.set()\n",
    "embalse['value'].plot(figsize=(15,5),linewidth=3)\n",
    "plt.title('Volumen Valdesia Cheby',fontsize=18)"
   ]
  },
  {
   "cell_type": "code",
   "execution_count": null,
   "metadata": {},
   "outputs": [],
   "source": [
    "#merge entre plpemb y bloques.csv \n",
    "emb=pd.merge(df2[['Bloque','Año','Mes']],df3[['EmbFac','Bloque','EmbVfin','EmbNom','EmbNum','Hidro']],on='Bloque')\n",
    "# df3=df3[(df3['EmbNum']==1) & (df3['Hidro']=='15')]\n",
    "# emb=df3[['EmbFac','Bloque','EmbVfin','EmbNom','EmbNum','Hidro']]\n",
    "#filtrar por embalse e hidrologia \n",
    "emb=emb[(emb['EmbNum']==3) & (emb['Hidro']==15)]\n",
    "#promedia el VolFin del embalse por cada año\n",
    "emb=emb.groupby(['Año','Mes']).mean()\n",
    "emb['Volf']=emb['EmbVfin']*emb['EmbFac']\n",
    "# emb.index=emb.Bloque\n",
    "sns.set()\n",
    "emb['Volf'].plot(figsize=(15,5),linewidth=3)\n",
    "plt.ylabel('m3'), plt.title(' Vfin de Embalse Valdesia PLP', fontsize=18), plt.legend() \n",
    "plt.show()"
   ]
  },
  {
   "cell_type": "code",
   "execution_count": null,
   "metadata": {},
   "outputs": [],
   "source": [
    "#CHEBY\n",
    "#filtrar por hidrologia\n",
    "embalse=vol[(vol['scenario_id']==15)]\n",
    "#filtrar por label \n",
    "embalse=embalse[embalse['label']=='5']\n",
    "#Fecha\n",
    "sr=pd.Series(embalse.datetime)\n",
    "embalse.loc[:,'Año']=pd.to_datetime(sr).dt.year\n",
    "embalse.loc[:,'Mes']=pd.to_datetime(sr).dt.month\n",
    "# df=pd.pivot_table(embalse,values='value',index=['Año','Mes'],columns='id',aggfunc=np.mean)\n",
    "embalse=embalse.groupby(['Año','Mes']).mean()\n",
    "# # df['Mes_n']=np.arange(1,len(df)+1)\n",
    "sns.set()\n",
    "embalse['value'].plot(figsize=(15,5),linewidth=3)\n",
    "plt.title('Volumen Las Barias Cheby',fontsize=18)"
   ]
  },
  {
   "cell_type": "code",
   "execution_count": null,
   "metadata": {},
   "outputs": [],
   "source": [
    "#merge entre plpemb y bloques.csv \n",
    "emb=pd.merge(df2[['Bloque','Año','Mes']],df3[['EmbFac','Bloque','EmbVfin','EmbNom','EmbNum','Hidro']],on='Bloque')\n",
    "# df3=df3[(df3['EmbNum']==1) & (df3['Hidro']=='15')]\n",
    "# emb=df3[['EmbFac','Bloque','EmbVfin','EmbNom','EmbNum','Hidro']]\n",
    "#filtrar por embalse e hidrologia \n",
    "emb=emb[(emb['EmbNum']==5) & (emb['Hidro']==15)]\n",
    "#promedia el VolFin del embalse por cada año\n",
    "emb=emb.groupby(['Año','Mes']).mean()\n",
    "emb['Volf']=emb['EmbVfin']*emb['EmbFac']\n",
    "# emb.index=emb.Bloque\n",
    "sns.set()\n",
    "emb['Volf'].plot(figsize=(15,5),linewidth=3)\n",
    "plt.ylabel('m3'), plt.title(' Vfin de Embalse Las Barias PLP', fontsize=18), plt.legend() \n",
    "plt.show()"
   ]
  },
  {
   "cell_type": "code",
   "execution_count": null,
   "metadata": {},
   "outputs": [],
   "source": [
    "#CHEBY\n",
    "#filtrar por hidrologia\n",
    "embalse=vol[(vol['scenario_id']==15)]\n",
    "#filtrar por label \n",
    "embalse=embalse[embalse['label']=='11']\n",
    "#Fecha\n",
    "sr=pd.Series(embalse.datetime)\n",
    "embalse.loc[:,'Año']=pd.to_datetime(sr).dt.year\n",
    "embalse.loc[:,'Mes']=pd.to_datetime(sr).dt.month\n",
    "# df=pd.pivot_table(embalse,values='value',index=['Año','Mes'],columns='id',aggfunc=np.mean)\n",
    "embalse=embalse.groupby(['Año','Mes']).mean()\n",
    "# # df['Mes_n']=np.arange(1,len(df)+1)\n",
    "sns.set()\n",
    "embalse['value'].plot(figsize=(15,5),linewidth=3)\n",
    "plt.title('Volumen Tavera Cheby',fontsize=18)"
   ]
  },
  {
   "cell_type": "code",
   "execution_count": null,
   "metadata": {},
   "outputs": [],
   "source": [
    "#merge entre plpemb y bloques.csv \n",
    "emb=pd.merge(df2[['Bloque','Año','Mes']],df3[['EmbFac','Bloque','EmbVfin','EmbNom','EmbNum','Hidro']],on='Bloque')\n",
    "# df3=df3[(df3['EmbNum']==1) & (df3['Hidro']=='15')]\n",
    "# emb=df3[['EmbFac','Bloque','EmbVfin','EmbNom','EmbNum','Hidro']]\n",
    "#filtrar por embalse e hidrologia \n",
    "emb=emb[(emb['EmbNum']==11) & (emb['Hidro']==15)]\n",
    "#promedia el VolFin del embalse por cada año\n",
    "emb=emb.groupby(['Año','Mes']).mean()\n",
    "emb['Volf']=emb['EmbVfin']*emb['EmbFac']\n",
    "# emb.index=emb.Bloque\n",
    "sns.set()\n",
    "emb['Volf'].plot(figsize=(15,5),linewidth=3)\n",
    "plt.ylabel('m3'), plt.title(' Vfin de Embalse Tavera PLP', fontsize=18), plt.legend() \n",
    "plt.show()"
   ]
  },
  {
   "cell_type": "code",
   "execution_count": null,
   "metadata": {},
   "outputs": [],
   "source": [
    "#CHEBY\n",
    "#filtrar por hidrologia\n",
    "embalse=vol[(vol['scenario_id']==15)]\n",
    "#filtrar por label \n",
    "embalse=embalse[embalse['label']=='12']\n",
    "#Fecha\n",
    "sr=pd.Series(embalse.datetime)\n",
    "embalse.loc[:,'Año']=pd.to_datetime(sr).dt.year\n",
    "embalse.loc[:,'Mes']=pd.to_datetime(sr).dt.month\n",
    "# df=pd.pivot_table(embalse,values='value',index=['Año','Mes'],columns='id',aggfunc=np.mean)\n",
    "embalse=embalse.groupby(['Año','Mes']).mean()\n",
    "# # df['Mes_n']=np.arange(1,len(df)+1)\n",
    "sns.set()\n",
    "embalse['value'].plot(figsize=(15,5),linewidth=3)\n",
    "plt.title('Volumen BAO Cheby',fontsize=18)"
   ]
  },
  {
   "cell_type": "code",
   "execution_count": null,
   "metadata": {},
   "outputs": [],
   "source": [
    "#merge entre plpemb y bloques.csv \n",
    "emb=pd.merge(df2[['Bloque','Año','Mes']],df3[['EmbFac','Bloque','EmbVfin','EmbNom','EmbNum','Hidro']],on='Bloque')\n",
    "# df3=df3[(df3['EmbNum']==1) & (df3['Hidro']=='15')]\n",
    "# emb=df3[['EmbFac','Bloque','EmbVfin','EmbNom','EmbNum','Hidro']]\n",
    "#filtrar por embalse e hidrologia \n",
    "emb=emb[(emb['EmbNum']==12) & (emb['Hidro']==15)]\n",
    "#promedia el VolFin del embalse por cada año\n",
    "emb=emb.groupby(['Año','Mes']).mean()\n",
    "emb['Volf']=emb['EmbVfin']*emb['EmbFac']\n",
    "# emb.index=emb.Bloque\n",
    "sns.set()\n",
    "emb['Volf'].plot(figsize=(15,5),linewidth=3)\n",
    "plt.ylabel('m3'), plt.title(' Vfin de Embalse BAO PLP', fontsize=18), plt.legend() \n",
    "plt.show()"
   ]
  },
  {
   "cell_type": "code",
   "execution_count": null,
   "metadata": {},
   "outputs": [],
   "source": [
    "#CHEBY\n",
    "#filtrar por hidrologia\n",
    "embalse=vol[(vol['scenario_id']==15)]\n",
    "#filtrar por label \n",
    "embalse=embalse[embalse['label']=='13']\n",
    "#Fecha\n",
    "sr=pd.Series(embalse.datetime)\n",
    "embalse.loc[:,'Año']=pd.to_datetime(sr).dt.year\n",
    "embalse.loc[:,'Mes']=pd.to_datetime(sr).dt.month\n",
    "# df=pd.pivot_table(embalse,values='value',index=['Año','Mes'],columns='id',aggfunc=np.mean)\n",
    "embalse=embalse.groupby(['Año','Mes']).mean()\n",
    "# # df['Mes_n']=np.arange(1,len(df)+1)\n",
    "sns.set()\n",
    "embalse['value'].plot(figsize=(15,5),linewidth=3)\n",
    "plt.title('Volumen LopezAngostura Cheby',fontsize=18)"
   ]
  },
  {
   "cell_type": "code",
   "execution_count": null,
   "metadata": {},
   "outputs": [],
   "source": [
    "#merge entre plpemb y bloques.csv \n",
    "emb=pd.merge(df2[['Bloque','Año','Mes']],df3[['EmbFac','Bloque','EmbVfin','EmbNom','EmbNum','Hidro']],on='Bloque')\n",
    "# df3=df3[(df3['EmbNum']==1) & (df3['Hidro']=='15')]\n",
    "# emb=df3[['EmbFac','Bloque','EmbVfin','EmbNom','EmbNum','Hidro']]\n",
    "#filtrar por embalse e hidrologia \n",
    "emb=emb[(emb['EmbNum']==13) & (emb['Hidro']==15)]\n",
    "#promedia el VolFin del embalse por cada año\n",
    "emb=emb.groupby(['Año','Mes']).mean()\n",
    "emb['Volf']=emb['EmbVfin']*emb['EmbFac']\n",
    "# emb.index=emb.Bloque\n",
    "sns.set()\n",
    "emb['Volf'].plot(figsize=(15,5),linewidth=3)\n",
    "plt.ylabel('m3'), plt.title(' Vfin de Embalse LopezAngostura PLP', fontsize=18), plt.legend() \n",
    "plt.show()"
   ]
  },
  {
   "cell_type": "code",
   "execution_count": null,
   "metadata": {},
   "outputs": [],
   "source": []
  }
 ],
 "metadata": {
  "kernelspec": {
   "display_name": "Python 3",
   "language": "python",
   "name": "python3"
  },
  "language_info": {
   "codemirror_mode": {
    "name": "ipython",
    "version": 3
   },
   "file_extension": ".py",
   "mimetype": "text/x-python",
   "name": "python",
   "nbconvert_exporter": "python",
   "pygments_lexer": "ipython3",
   "version": "3.7.6"
  }
 },
 "nbformat": 4,
 "nbformat_minor": 4
}
